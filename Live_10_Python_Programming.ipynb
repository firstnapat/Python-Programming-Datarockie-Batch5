{
  "nbformat": 4,
  "nbformat_minor": 0,
  "metadata": {
    "colab": {
      "name": "Live 10 - Python Programming.ipynb",
      "provenance": [],
      "authorship_tag": "ABX9TyOHy+rH/KLc5U9/BZSXcMrl",
      "include_colab_link": true
    },
    "kernelspec": {
      "name": "python3",
      "display_name": "Python 3"
    },
    "language_info": {
      "name": "python"
    }
  },
  "cells": [
    {
      "cell_type": "markdown",
      "metadata": {
        "id": "view-in-github",
        "colab_type": "text"
      },
      "source": [
        "<a href=\"https://colab.research.google.com/github/firstnapat/Python-Programming-Datarockie-Batch5/blob/main/Live_10_Python_Programming.ipynb\" target=\"_parent\"><img src=\"https://colab.research.google.com/assets/colab-badge.svg\" alt=\"Open In Colab\"/></a>"
      ]
    },
    {
      "cell_type": "markdown",
      "source": [
        "# Python End to End (Batch 5)\n",
        "Contents:\n",
        "- Variable\n",
        "- Data Type\n",
        "- Data Structure\n",
        "- Function\n",
        "- Control Flow\n",
        "- OOP(Object Oriented Programming)"
      ],
      "metadata": {
        "id": "ay_iRNFF1iB_"
      }
    },
    {
      "cell_type": "code",
      "execution_count": 7,
      "metadata": {
        "colab": {
          "base_uri": "https://localhost:8080/"
        },
        "id": "rjFCOe1e0c53",
        "outputId": "d1191e46-8693-4c2f-e84d-451f30397708"
      },
      "outputs": [
        {
          "output_type": "stream",
          "name": "stdout",
          "text": [
            "2\n",
            "0\n",
            "4\n",
            "1.0\n",
            "2\n",
            "1\n"
          ]
        }
      ],
      "source": [
        "# basic computation\n",
        "print(1 + 1)\n",
        "print(1 - 1)\n",
        "print(2 * 2)\n",
        "print(2 / 2)\n",
        "print(5 // 2) # floor division\n",
        "print(5 % 2) # modulo"
      ]
    },
    {
      "cell_type": "code",
      "source": [
        "# variable\n",
        "income = 50000\n",
        "expense = 28000\n",
        "saving = income - expense\n",
        "print(saving)"
      ],
      "metadata": {
        "colab": {
          "base_uri": "https://localhost:8080/"
        },
        "id": "srAghA_02QRq",
        "outputId": "b7a18ee3-6f40-4ea7-8409-24748248a358"
      },
      "execution_count": 9,
      "outputs": [
        {
          "output_type": "stream",
          "name": "stdout",
          "text": [
            "22000\n"
          ]
        }
      ]
    },
    {
      "cell_type": "code",
      "source": [
        "del saving\n",
        "print(saving)"
      ],
      "metadata": {
        "colab": {
          "base_uri": "https://localhost:8080/",
          "height": 182
        },
        "id": "1KYKN2Gg2_xR",
        "outputId": "7e4360a0-3430-42ad-8e8b-d4f61b5138d3"
      },
      "execution_count": 10,
      "outputs": [
        {
          "output_type": "error",
          "ename": "NameError",
          "evalue": "ignored",
          "traceback": [
            "\u001b[0;31m---------------------------------------------------------------------------\u001b[0m",
            "\u001b[0;31mNameError\u001b[0m                                 Traceback (most recent call last)",
            "\u001b[0;32m<ipython-input-10-dd4b75aec550>\u001b[0m in \u001b[0;36m<module>\u001b[0;34m()\u001b[0m\n\u001b[1;32m      1\u001b[0m \u001b[0;32mdel\u001b[0m \u001b[0msaving\u001b[0m\u001b[0;34m\u001b[0m\u001b[0;34m\u001b[0m\u001b[0m\n\u001b[0;32m----> 2\u001b[0;31m \u001b[0mprint\u001b[0m\u001b[0;34m(\u001b[0m\u001b[0msaving\u001b[0m\u001b[0;34m)\u001b[0m\u001b[0;34m\u001b[0m\u001b[0;34m\u001b[0m\u001b[0m\n\u001b[0m",
            "\u001b[0;31mNameError\u001b[0m: name 'saving' is not defined"
          ]
        }
      ]
    },
    {
      "cell_type": "code",
      "source": [
        "# string variable\n",
        "my_name = 'toy' # 'toy'\n",
        "my_age = 33"
      ],
      "metadata": {
        "id": "qxUi5PUQ3O81"
      },
      "execution_count": 14,
      "outputs": []
    },
    {
      "cell_type": "code",
      "source": [
        "print('hello', my_name, \"and I'm\", my_age, \"years old.\")"
      ],
      "metadata": {
        "colab": {
          "base_uri": "https://localhost:8080/"
        },
        "id": "rxnLYA1y31KK",
        "outputId": "28895dcb-ab30-4b72-ead7-be9e4a8957ac"
      },
      "execution_count": 17,
      "outputs": [
        {
          "output_type": "stream",
          "name": "stdout",
          "text": [
            "hello toy and I'm 33 years old.\n"
          ]
        }
      ]
    },
    {
      "cell_type": "code",
      "source": [
        "# f-string\n",
        "text = f\"Hello! my name id {my_name} and I'm {my_age} years old.\""
      ],
      "metadata": {
        "id": "JpSoeeTL32n-"
      },
      "execution_count": 18,
      "outputs": []
    },
    {
      "cell_type": "code",
      "source": [
        "print(text)"
      ],
      "metadata": {
        "colab": {
          "base_uri": "https://localhost:8080/"
        },
        "id": "KNhvfxm16ACm",
        "outputId": "f4e247d6-63c5-4615-f276-3a8889f8d70e"
      },
      "execution_count": 19,
      "outputs": [
        {
          "output_type": "stream",
          "name": "stdout",
          "text": [
            "Hello! my name id toy and I'm 33 years old.\n"
          ]
        }
      ]
    },
    {
      "cell_type": "code",
      "source": [
        "# type hinting\n",
        "# สรุปคือเอาไว้ใบ้เฉยๆว่าเป็นประเภทอะไรไม่ได้ตั้งเป็น default\n",
        "# int float str bool"
      ],
      "metadata": {
        "id": "Xzxp4rhA6B74"
      },
      "execution_count": 20,
      "outputs": []
    },
    {
      "cell_type": "code",
      "source": [
        "name: str = \"toy\"\n",
        "age: int = 24\n",
        "gpa: float = 3.52\n",
        "movie_lover: bool = True"
      ],
      "metadata": {
        "id": "Cj0oWFYI6WQ2"
      },
      "execution_count": 30,
      "outputs": []
    },
    {
      "cell_type": "code",
      "source": [
        "print(type(name))\n",
        "print(type(age))\n",
        "print(type(gpa))\n",
        "print(type(movie_lover))"
      ],
      "metadata": {
        "colab": {
          "base_uri": "https://localhost:8080/"
        },
        "id": "tNHCxnBI6c0Q",
        "outputId": "ed253733-4008-489d-c9e0-d540300e39c9"
      },
      "execution_count": 31,
      "outputs": [
        {
          "output_type": "stream",
          "name": "stdout",
          "text": [
            "<class 'str'>\n",
            "<class 'int'>\n",
            "<class 'float'>\n",
            "<class 'bool'>\n"
          ]
        }
      ]
    },
    {
      "cell_type": "code",
      "source": [
        "name = \"toy\"\n",
        "isinstance(name, str)"
      ],
      "metadata": {
        "colab": {
          "base_uri": "https://localhost:8080/"
        },
        "id": "3WDUaqrI6vkX",
        "outputId": "f8ae0277-b49b-4768-f6fa-e6071fb9818f"
      },
      "execution_count": 32,
      "outputs": [
        {
          "output_type": "execute_result",
          "data": {
            "text/plain": [
              "True"
            ]
          },
          "metadata": {},
          "execution_count": 32
        }
      ]
    },
    {
      "cell_type": "code",
      "source": [
        "gpa = 2.8\n",
        "isinstance(gpa, str)"
      ],
      "metadata": {
        "colab": {
          "base_uri": "https://localhost:8080/"
        },
        "id": "xZxPfh5m6zzW",
        "outputId": "83cf6140-59c0-4f2b-bd17-bfe91417ee2d"
      },
      "execution_count": 34,
      "outputs": [
        {
          "output_type": "execute_result",
          "data": {
            "text/plain": [
              "False"
            ]
          },
          "metadata": {},
          "execution_count": 34
        }
      ]
    },
    {
      "cell_type": "markdown",
      "source": [
        "# Function"
      ],
      "metadata": {
        "id": "fJLsDqts8bl-"
      }
    },
    {
      "cell_type": "code",
      "source": [
        "# create your own function"
      ],
      "metadata": {
        "id": "bIyad-4j8dFu"
      },
      "execution_count": 36,
      "outputs": []
    },
    {
      "cell_type": "code",
      "source": [
        "def greeting():\n",
        "    print(\"hello world\")"
      ],
      "metadata": {
        "id": "OkE4bzRv8fqB"
      },
      "execution_count": 37,
      "outputs": []
    },
    {
      "cell_type": "code",
      "source": [
        "greeting()"
      ],
      "metadata": {
        "colab": {
          "base_uri": "https://localhost:8080/"
        },
        "id": "S8N2EHX69YD1",
        "outputId": "e4b0a84e-002c-45c1-88bd-694d9522e630"
      },
      "execution_count": 38,
      "outputs": [
        {
          "output_type": "stream",
          "name": "stdout",
          "text": [
            "hello world\n"
          ]
        }
      ]
    },
    {
      "cell_type": "code",
      "source": [
        "def greeting_name(name, city=\"London\"):\n",
        "    print(f\"Hello! {name}. We live in {city}.\")"
      ],
      "metadata": {
        "id": "hSaRJmaI9aFw"
      },
      "execution_count": 50,
      "outputs": []
    },
    {
      "cell_type": "code",
      "source": [
        "name = \"toy\"\n",
        "greeting_name(name)"
      ],
      "metadata": {
        "colab": {
          "base_uri": "https://localhost:8080/"
        },
        "id": "G_X0LnJ8-qcB",
        "outputId": "e500caf4-6f20-401c-870d-d7531850792a"
      },
      "execution_count": 41,
      "outputs": [
        {
          "output_type": "stream",
          "name": "stdout",
          "text": [
            "Hello! toy.\n"
          ]
        }
      ]
    },
    {
      "cell_type": "code",
      "source": [
        "greeting_name(name=\"John\")"
      ],
      "metadata": {
        "colab": {
          "base_uri": "https://localhost:8080/"
        },
        "id": "FZsF-moc-ska",
        "outputId": "0ea141f4-2cd9-4e7b-eb35-d9793aefcd06"
      },
      "execution_count": 51,
      "outputs": [
        {
          "output_type": "stream",
          "name": "stdout",
          "text": [
            "Hello! John. We live in London.\n"
          ]
        }
      ]
    },
    {
      "cell_type": "code",
      "source": [
        "# get input from user\n",
        "# input() get string input"
      ],
      "metadata": {
        "id": "tCgH3kLk_IGW"
      },
      "execution_count": 52,
      "outputs": []
    },
    {
      "cell_type": "code",
      "source": [
        "def greeting_name2():\n",
        "    name = input(\"What's your name? \")\n",
        "    print(f\"Greeint {name}!\")"
      ],
      "metadata": {
        "id": "xD7FhLJ2CYHe"
      },
      "execution_count": 57,
      "outputs": []
    },
    {
      "cell_type": "code",
      "source": [
        "greeting_name2()"
      ],
      "metadata": {
        "colab": {
          "base_uri": "https://localhost:8080/"
        },
        "id": "CrXag3E-CYJ_",
        "outputId": "1ccc5aae-d0f5-4016-b10a-4297cf6a5dff"
      },
      "execution_count": 60,
      "outputs": [
        {
          "output_type": "stream",
          "name": "stdout",
          "text": [
            "What's your name? Toy\n",
            "Greeint Toy!\n"
          ]
        }
      ]
    },
    {
      "cell_type": "code",
      "source": [
        "# lambda function\n",
        "def add_two_nums(a, b):\n",
        "    return a + b\n",
        "result = add_two_nums(10, 200)\n",
        "print(result)"
      ],
      "metadata": {
        "colab": {
          "base_uri": "https://localhost:8080/"
        },
        "id": "RpN1V9guDYu6",
        "outputId": "c35197ef-e7a4-46a3-c5f5-c4b57647ab5a"
      },
      "execution_count": 64,
      "outputs": [
        {
          "output_type": "stream",
          "name": "stdout",
          "text": [
            "210\n"
          ]
        }
      ]
    },
    {
      "cell_type": "code",
      "source": [
        ""
      ],
      "metadata": {
        "id": "yK07op_9EBjB"
      },
      "execution_count": null,
      "outputs": []
    }
  ]
}
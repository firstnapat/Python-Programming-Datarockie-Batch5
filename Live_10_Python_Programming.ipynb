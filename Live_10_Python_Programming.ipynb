{
  "nbformat": 4,
  "nbformat_minor": 0,
  "metadata": {
    "colab": {
      "name": "Live 10 - Python Programming.ipynb",
      "provenance": [],
      "authorship_tag": "ABX9TyNWG6o06Sk31V7RfMkF558l",
      "include_colab_link": true
    },
    "kernelspec": {
      "name": "python3",
      "display_name": "Python 3"
    },
    "language_info": {
      "name": "python"
    }
  },
  "cells": [
    {
      "cell_type": "markdown",
      "metadata": {
        "id": "view-in-github",
        "colab_type": "text"
      },
      "source": [
        "<a href=\"https://colab.research.google.com/github/firstnapat/Python-Programming-Datarockie-Batch5/blob/main/Live_10_Python_Programming.ipynb\" target=\"_parent\"><img src=\"https://colab.research.google.com/assets/colab-badge.svg\" alt=\"Open In Colab\"/></a>"
      ]
    },
    {
      "cell_type": "markdown",
      "source": [
        "# Python End to End (Batch 5)\n",
        "Contents:\n",
        "- Variable\n",
        "- Data Type\n",
        "- Data Structure\n",
        "- Function\n",
        "- Control Flow\n",
        "- OOP(Object Oriented Programming)"
      ],
      "metadata": {
        "id": "ay_iRNFF1iB_"
      }
    },
    {
      "cell_type": "code",
      "execution_count": 7,
      "metadata": {
        "colab": {
          "base_uri": "https://localhost:8080/"
        },
        "id": "rjFCOe1e0c53",
        "outputId": "d1191e46-8693-4c2f-e84d-451f30397708"
      },
      "outputs": [
        {
          "output_type": "stream",
          "name": "stdout",
          "text": [
            "2\n",
            "0\n",
            "4\n",
            "1.0\n",
            "2\n",
            "1\n"
          ]
        }
      ],
      "source": [
        "# basic computation\n",
        "print(1 + 1)\n",
        "print(1 - 1)\n",
        "print(2 * 2)\n",
        "print(2 / 2)\n",
        "print(5 // 2) # floor division\n",
        "print(5 % 2) # modulo"
      ]
    },
    {
      "cell_type": "code",
      "source": [
        "# variable\n",
        "income = 50000\n",
        "expense = 28000\n",
        "saving = income - expense\n",
        "print(saving)"
      ],
      "metadata": {
        "colab": {
          "base_uri": "https://localhost:8080/"
        },
        "id": "srAghA_02QRq",
        "outputId": "b7a18ee3-6f40-4ea7-8409-24748248a358"
      },
      "execution_count": 9,
      "outputs": [
        {
          "output_type": "stream",
          "name": "stdout",
          "text": [
            "22000\n"
          ]
        }
      ]
    },
    {
      "cell_type": "code",
      "source": [
        "del saving\n",
        "print(saving)"
      ],
      "metadata": {
        "colab": {
          "base_uri": "https://localhost:8080/",
          "height": 182
        },
        "id": "1KYKN2Gg2_xR",
        "outputId": "7e4360a0-3430-42ad-8e8b-d4f61b5138d3"
      },
      "execution_count": 10,
      "outputs": [
        {
          "output_type": "error",
          "ename": "NameError",
          "evalue": "ignored",
          "traceback": [
            "\u001b[0;31m---------------------------------------------------------------------------\u001b[0m",
            "\u001b[0;31mNameError\u001b[0m                                 Traceback (most recent call last)",
            "\u001b[0;32m<ipython-input-10-dd4b75aec550>\u001b[0m in \u001b[0;36m<module>\u001b[0;34m()\u001b[0m\n\u001b[1;32m      1\u001b[0m \u001b[0;32mdel\u001b[0m \u001b[0msaving\u001b[0m\u001b[0;34m\u001b[0m\u001b[0;34m\u001b[0m\u001b[0m\n\u001b[0;32m----> 2\u001b[0;31m \u001b[0mprint\u001b[0m\u001b[0;34m(\u001b[0m\u001b[0msaving\u001b[0m\u001b[0;34m)\u001b[0m\u001b[0;34m\u001b[0m\u001b[0;34m\u001b[0m\u001b[0m\n\u001b[0m",
            "\u001b[0;31mNameError\u001b[0m: name 'saving' is not defined"
          ]
        }
      ]
    },
    {
      "cell_type": "code",
      "source": [
        "# string variable\n",
        "my_name = 'toy' # 'toy'"
      ],
      "metadata": {
        "id": "qxUi5PUQ3O81"
      },
      "execution_count": 11,
      "outputs": []
    },
    {
      "cell_type": "code",
      "source": [
        "print('hello', my_name)"
      ],
      "metadata": {
        "colab": {
          "base_uri": "https://localhost:8080/"
        },
        "id": "rxnLYA1y31KK",
        "outputId": "4ff2136f-afc6-4a98-b923-6ffe812b9ee0"
      },
      "execution_count": 13,
      "outputs": [
        {
          "output_type": "stream",
          "name": "stdout",
          "text": [
            "hello toy\n"
          ]
        }
      ]
    },
    {
      "cell_type": "code",
      "source": [
        ""
      ],
      "metadata": {
        "id": "JpSoeeTL32n-"
      },
      "execution_count": null,
      "outputs": []
    }
  ]
}